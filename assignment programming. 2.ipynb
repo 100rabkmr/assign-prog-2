{
 "cells": [
  {
   "cell_type": "markdown",
   "id": "b0ded490",
   "metadata": {},
   "source": [
    "# assignment programming 2"
   ]
  },
  {
   "cell_type": "code",
   "execution_count": 1,
   "id": "42c89061",
   "metadata": {},
   "outputs": [
    {
     "name": "stdout",
     "output_type": "stream",
     "text": [
      "Object `miles` not found.\n",
      "Enter distance in kilometers: 3\n",
      "3.0 kilometers is equal to 1.8641130000000001 miles.\n"
     ]
    }
   ],
   "source": [
    "1. Write a Python program to convert kilometers to miles?\n",
    "\n",
    "\n",
    "def km_to_miles(km):\n",
    "    miles = km * 0.621371\n",
    "    return miles\n",
    "\n",
    "# Taking input from the user\n",
    "kilometers = float(input(\"Enter distance in kilometers: \"))\n",
    "\n",
    "# Convert kilometers to miles\n",
    "miles = km_to_miles(kilometers)\n",
    "\n",
    "print(f\"{kilometers} kilometers is equal to {miles} miles.\")\n"
   ]
  },
  {
   "cell_type": "code",
   "execution_count": 2,
   "id": "a58449b6",
   "metadata": {},
   "outputs": [
    {
     "name": "stdout",
     "output_type": "stream",
     "text": [
      "Object `Fahrenheit` not found.\n",
      "Enter temperature in Celsius: 6\n",
      "6.0 degrees Celsius is equal to 42.8 degrees Fahrenheit.\n"
     ]
    }
   ],
   "source": [
    "2. Write a Python program to convert Celsius to Fahrenheit?\n",
    "\n",
    "def celsius_to_fahrenheit(celsius):\n",
    "    fahrenheit = (celsius * 9/5) + 32\n",
    "    return fahrenheit\n",
    "\n",
    "# Taking input from the user\n",
    "celsius = float(input(\"Enter temperature in Celsius: \"))\n",
    "\n",
    "# Convert Celsius to Fahrenheit\n",
    "fahrenheit = celsius_to_fahrenheit(celsius)\n",
    "\n",
    "print(f\"{celsius} degrees Celsius is equal to {fahrenheit} degrees Fahrenheit.\")\n"
   ]
  },
  {
   "cell_type": "code",
   "execution_count": 3,
   "id": "90fdbd33",
   "metadata": {},
   "outputs": [
    {
     "name": "stdout",
     "output_type": "stream",
     "text": [
      "Object `calendar` not found.\n",
      "Enter the year: 2006\n",
      "Enter the month (1-12): 6\n",
      "Calendar for June 2006:\n",
      "     June 2006\n",
      "Mo Tu We Th Fr Sa Su\n",
      "          1  2  3  4\n",
      " 5  6  7  8  9 10 11\n",
      "12 13 14 15 16 17 18\n",
      "19 20 21 22 23 24 25\n",
      "26 27 28 29 30\n",
      "\n"
     ]
    }
   ],
   "source": [
    "3. Write a Python program to display calendar?\n",
    "\n",
    "import calendar\n",
    "\n",
    "def display_calendar(year, month):\n",
    "    cal = calendar.month(year, month)\n",
    "    print(f\"Calendar for {calendar.month_name[month]} {year}:\")\n",
    "    print(cal)\n",
    "\n",
    "# Taking input from the user\n",
    "year = int(input(\"Enter the year: \"))\n",
    "month = int(input(\"Enter the month (1-12): \"))\n",
    "\n",
    "# Displaying the calendar\n",
    "display_calendar(year, month)\n"
   ]
  },
  {
   "cell_type": "code",
   "execution_count": 4,
   "id": "d6ab45f5",
   "metadata": {},
   "outputs": [
    {
     "name": "stdout",
     "output_type": "stream",
     "text": [
      "Object `equation` not found.\n",
      "Enter the coefficient of x^2 (a): 7\n",
      "Enter the coefficient of x (b): 8\n",
      "Enter the constant term (c): 5\n",
      "Solutions to the quadratic equation 7.0x^2 + 8.0x + 5.0 = 0 are:\n",
      "Solution 1: (-0.5714285714285714+0.6226998490772392j)\n",
      "Solution 2: (-0.5714285714285714-0.6226998490772392j)\n"
     ]
    }
   ],
   "source": [
    "4. Write a Python program to solve quadratic equation?\n",
    "\n",
    "import cmath\n",
    "\n",
    "def solve_quadratic(a, b, c):\n",
    "    # Calculate the discriminant\n",
    "    discriminant = (b ** 2) - (4 * a * c)\n",
    "\n",
    "    # Find two solutions\n",
    "    solution1 = (-b + cmath.sqrt(discriminant)) / (2 * a)\n",
    "    solution2 = (-b - cmath.sqrt(discriminant)) / (2 * a)\n",
    "\n",
    "    return solution1, solution2\n",
    "\n",
    "# Taking input from the user\n",
    "a = float(input(\"Enter the coefficient of x^2 (a): \"))\n",
    "b = float(input(\"Enter the coefficient of x (b): \"))\n",
    "c = float(input(\"Enter the constant term (c): \"))\n",
    "\n",
    "# Solve the quadratic equation\n",
    "solution1, solution2 = solve_quadratic(a, b, c)\n",
    "\n",
    "print(f\"Solutions to the quadratic equation {a}x^2 + {b}x + {c} = 0 are:\")\n",
    "print(\"Solution 1:\", solution1)\n",
    "print(\"Solution 2:\", solution2)\n"
   ]
  },
  {
   "cell_type": "code",
   "execution_count": 5,
   "id": "692b13dd",
   "metadata": {},
   "outputs": [
    {
     "name": "stdout",
     "output_type": "stream",
     "text": [
      "Object `variable` not found.\n",
      "Enter value for variable a: 7\n",
      "Enter value for variable b: 9\n",
      "Before swapping:\n",
      "a = 7\n",
      "b = 9\n",
      "\n",
      "After swapping:\n",
      "a = 9\n",
      "b = 7\n"
     ]
    }
   ],
   "source": [
    "5. Write a Python program to swap two variables without temp variable?\n",
    "\n",
    "def swap_without_temp(a, b):\n",
    "    print(\"Before swapping:\")\n",
    "    print(\"a =\", a)\n",
    "    print(\"b =\", b)\n",
    "\n",
    "    # Swap the values\n",
    "    a, b = b, a\n",
    "\n",
    "    print(\"\\nAfter swapping:\")\n",
    "    print(\"a =\", a)\n",
    "    print(\"b =\", b)\n",
    "\n",
    "# Taking input from the user\n",
    "a = input(\"Enter value for variable a: \")\n",
    "b = input(\"Enter value for variable b: \")\n",
    "\n",
    "# Calling the function to swap variables\n",
    "swap_without_temp(a, b)\n"
   ]
  }
 ],
 "metadata": {
  "kernelspec": {
   "display_name": "Python 3 (ipykernel)",
   "language": "python",
   "name": "python3"
  },
  "language_info": {
   "codemirror_mode": {
    "name": "ipython",
    "version": 3
   },
   "file_extension": ".py",
   "mimetype": "text/x-python",
   "name": "python",
   "nbconvert_exporter": "python",
   "pygments_lexer": "ipython3",
   "version": "3.11.7"
  }
 },
 "nbformat": 4,
 "nbformat_minor": 5
}
